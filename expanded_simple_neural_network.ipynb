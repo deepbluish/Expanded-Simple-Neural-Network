{
  "nbformat": 4,
  "nbformat_minor": 0,
  "metadata": {
    "colab": {
      "name": "expanded_simple_neural_network.ipynb",
      "provenance": [],
      "collapsed_sections": [],
      "authorship_tag": "ABX9TyPDXmLWjB+RiOGt1hS0FIrt",
      "include_colab_link": true
    },
    "kernelspec": {
      "name": "python3",
      "display_name": "Python 3"
    },
    "language_info": {
      "name": "python"
    }
  },
  "cells": [
    {
      "cell_type": "markdown",
      "metadata": {
        "id": "view-in-github",
        "colab_type": "text"
      },
      "source": [
        "<a href=\"https://colab.research.google.com/github/deepbluish/Expanded-Simple-Neural-Network/blob/main/expanded_simple_neural_network.ipynb\" target=\"_parent\"><img src=\"https://colab.research.google.com/assets/colab-badge.svg\" alt=\"Open In Colab\"/></a>"
      ]
    },
    {
      "cell_type": "markdown",
      "source": [
        "From Dr. Michael J. Garbade's Simple Neural Network but further broken down."
      ],
      "metadata": {
        "id": "WVZpGlthOp2v"
      }
    },
    {
      "cell_type": "code",
      "execution_count": 177,
      "metadata": {
        "id": "WKnqhKCtzfqh"
      },
      "outputs": [],
      "source": [
        "import numpy as np\n",
        "import matplotlib.pyplot as plt"
      ]
    },
    {
      "cell_type": "markdown",
      "source": [
        "#Training Data"
      ],
      "metadata": {
        "id": "4gDlwaPeZsRI"
      }
    },
    {
      "cell_type": "code",
      "source": [
        "X_train = np.array([[0,0,1],\n",
        "                    [1,1,1],\n",
        "                    [1,0,1],\n",
        "                    [0,1,1]])\n",
        "\n",
        "y_train = np.array([[0],\n",
        "                    [1],\n",
        "                    [1],\n",
        "                    [0]])\n",
        "X_train"
      ],
      "metadata": {
        "colab": {
          "base_uri": "https://localhost:8080/"
        },
        "id": "AwS6YLWwNeVB",
        "outputId": "1f3f1670-32ea-4f5e-e980-36e2fdc86295"
      },
      "execution_count": 178,
      "outputs": [
        {
          "output_type": "execute_result",
          "data": {
            "text/plain": [
              "array([[0, 0, 1],\n",
              "       [1, 1, 1],\n",
              "       [1, 0, 1],\n",
              "       [0, 1, 1]])"
            ]
          },
          "metadata": {},
          "execution_count": 178
        }
      ]
    },
    {
      "cell_type": "markdown",
      "source": [
        "#Synaptic Weight Matrix\n",
        "\n",
        "The entire training loop exists only to modify the synaptic weights matrix.  That's it."
      ],
      "metadata": {
        "id": "f3EPjNgcQWCY"
      }
    },
    {
      "cell_type": "code",
      "source": [
        "np.random.seed(3)\n",
        "synaptic_weights = 2 * np.random.random((3, 1)) - 1\n",
        "synaptic_weights"
      ],
      "metadata": {
        "colab": {
          "base_uri": "https://localhost:8080/"
        },
        "id": "ADBJ0pl8JDeT",
        "outputId": "01c59770-58be-4142-9d1f-ce8897a88382"
      },
      "execution_count": 179,
      "outputs": [
        {
          "output_type": "execute_result",
          "data": {
            "text/plain": [
              "array([[ 0.10159581],\n",
              "       [ 0.41629565],\n",
              "       [-0.41819052]])"
            ]
          },
          "metadata": {},
          "execution_count": 179
        }
      ]
    },
    {
      "cell_type": "markdown",
      "source": [
        "#One Training Epoch"
      ],
      "metadata": {
        "id": "b6pK5d3kKjpK"
      }
    },
    {
      "cell_type": "markdown",
      "source": [
        "Make a Prediction in 3 Steps Starting using the X_train data"
      ],
      "metadata": {
        "id": "Y_bERb5KjLCI"
      }
    },
    {
      "cell_type": "code",
      "source": [
        "#1. Create training variable X from X_train matrix and convert to float\n",
        "X = X_train.astype(float)\n",
        "X"
      ],
      "metadata": {
        "colab": {
          "base_uri": "https://localhost:8080/"
        },
        "id": "kS0jKUKTNXxi",
        "outputId": "02e38f78-b4ab-4d1a-becf-11b16527def9"
      },
      "execution_count": 180,
      "outputs": [
        {
          "output_type": "execute_result",
          "data": {
            "text/plain": [
              "array([[0., 0., 1.],\n",
              "       [1., 1., 1.],\n",
              "       [1., 0., 1.],\n",
              "       [0., 1., 1.]])"
            ]
          },
          "metadata": {},
          "execution_count": 180
        }
      ]
    },
    {
      "cell_type": "code",
      "source": [
        "#2. Matrix Multiply X by the Synaptic Weight Matrix\n",
        "X = np.dot(X, synaptic_weights)\n",
        "X"
      ],
      "metadata": {
        "colab": {
          "base_uri": "https://localhost:8080/"
        },
        "id": "ImsJM3hbPdQR",
        "outputId": "427a5071-b868-40a5-92f5-ab173c73dd1c"
      },
      "execution_count": 181,
      "outputs": [
        {
          "output_type": "execute_result",
          "data": {
            "text/plain": [
              "array([[-0.41819052],\n",
              "       [ 0.09970093],\n",
              "       [-0.31659472],\n",
              "       [-0.00189488]])"
            ]
          },
          "metadata": {},
          "execution_count": 181
        }
      ]
    },
    {
      "cell_type": "code",
      "source": [
        "#3. Convert X to sigmoid (providing a value between 0 and 1).\n",
        "X = 1 / (1 + np.exp(-X)) \n",
        "\n",
        "# X now is our prediction.  We can compare this with the y matrix and see how close we got.\n",
        "prediction = X\n",
        "prediction"
      ],
      "metadata": {
        "colab": {
          "base_uri": "https://localhost:8080/"
        },
        "id": "ANGgZbiwPeYB",
        "outputId": "0630b952-9189-4bc6-aaf6-edaba6c214f8"
      },
      "execution_count": 182,
      "outputs": [
        {
          "output_type": "execute_result",
          "data": {
            "text/plain": [
              "array([[0.39694982],\n",
              "       [0.52490461],\n",
              "       [0.42150586],\n",
              "       [0.49952628]])"
            ]
          },
          "metadata": {},
          "execution_count": 182
        }
      ]
    },
    {
      "cell_type": "markdown",
      "source": [
        "Comparing the prediction to our target values"
      ],
      "metadata": {
        "id": "gFSlOaEvjmHI"
      }
    },
    {
      "cell_type": "code",
      "source": [
        "y_train # Let's remind ourselves what our target matrix (y_train) look like."
      ],
      "metadata": {
        "colab": {
          "base_uri": "https://localhost:8080/"
        },
        "id": "TqdISfLSWBte",
        "outputId": "86638869-6c4f-4fd9-8c76-70748701f2e3"
      },
      "execution_count": 183,
      "outputs": [
        {
          "output_type": "execute_result",
          "data": {
            "text/plain": [
              "array([[0],\n",
              "       [1],\n",
              "       [1],\n",
              "       [0]])"
            ]
          },
          "metadata": {},
          "execution_count": 183
        }
      ]
    },
    {
      "cell_type": "code",
      "source": [
        "prediction # Let's remind ourselves of the prediction matrix"
      ],
      "metadata": {
        "colab": {
          "base_uri": "https://localhost:8080/"
        },
        "id": "iivBlB51iKSh",
        "outputId": "a497faf3-0598-4591-c5e0-53a096faa154"
      },
      "execution_count": 184,
      "outputs": [
        {
          "output_type": "execute_result",
          "data": {
            "text/plain": [
              "array([[0.39694982],\n",
              "       [0.52490461],\n",
              "       [0.42150586],\n",
              "       [0.49952628]])"
            ]
          },
          "metadata": {},
          "execution_count": 184
        }
      ]
    },
    {
      "cell_type": "markdown",
      "source": [
        "Calculating the loss"
      ],
      "metadata": {
        "id": "MpJ6oWpkkNSI"
      }
    },
    {
      "cell_type": "code",
      "source": [
        "loss = y_train - prediction # How much does this X prediction miss our target values (y_train) by? ...or \"Calculate the Loss\"\n",
        "loss"
      ],
      "metadata": {
        "colab": {
          "base_uri": "https://localhost:8080/"
        },
        "id": "o1-MMxRZPgfR",
        "outputId": "72a06430-f247-44d5-9919-7327074b9e0d"
      },
      "execution_count": 185,
      "outputs": [
        {
          "output_type": "execute_result",
          "data": {
            "text/plain": [
              "array([[-0.39694982],\n",
              "       [ 0.47509539],\n",
              "       [ 0.57849414],\n",
              "       [-0.49952628]])"
            ]
          },
          "metadata": {},
          "execution_count": 185
        }
      ]
    },
    {
      "cell_type": "markdown",
      "source": [
        "Getting the sigmoid derivative of the prediction"
      ],
      "metadata": {
        "id": "bycpcF_DkUT7"
      }
    },
    {
      "cell_type": "code",
      "source": [
        "#let's remind ourselves of the prediction\n",
        "prediction"
      ],
      "metadata": {
        "colab": {
          "base_uri": "https://localhost:8080/"
        },
        "id": "S8Z3SkrBgF11",
        "outputId": "25bd709d-4989-4838-ef9d-48dcb76075d6"
      },
      "execution_count": 186,
      "outputs": [
        {
          "output_type": "execute_result",
          "data": {
            "text/plain": [
              "array([[0.39694982],\n",
              "       [0.52490461],\n",
              "       [0.42150586],\n",
              "       [0.49952628]])"
            ]
          },
          "metadata": {},
          "execution_count": 186
        }
      ]
    },
    {
      "cell_type": "code",
      "source": [
        "sigmoid_derivative = prediction * (1 - prediction) #Get the sigmoid derivative of the prediction\n",
        "sigmoid_derivative"
      ],
      "metadata": {
        "colab": {
          "base_uri": "https://localhost:8080/"
        },
        "id": "kcgU6HSmPhlk",
        "outputId": "9222df12-954d-484b-8271-4a9189e33aca"
      },
      "execution_count": 187,
      "outputs": [
        {
          "output_type": "execute_result",
          "data": {
            "text/plain": [
              "array([[0.23938066],\n",
              "       [0.24937976],\n",
              "       [0.24383867],\n",
              "       [0.24999978]])"
            ]
          },
          "metadata": {},
          "execution_count": 187
        }
      ]
    },
    {
      "cell_type": "code",
      "source": [
        "loss_der = loss * sigmoid_derivative\n",
        "loss_der"
      ],
      "metadata": {
        "colab": {
          "base_uri": "https://localhost:8080/"
        },
        "id": "oTeIfqrvfj4r",
        "outputId": "dba2bc71-8f3d-41f8-84e2-260dac72d423"
      },
      "execution_count": 188,
      "outputs": [
        {
          "output_type": "execute_result",
          "data": {
            "text/plain": [
              "array([[-0.09502211],\n",
              "       [ 0.11847918],\n",
              "       [ 0.14105924],\n",
              "       [-0.12488146]])"
            ]
          },
          "metadata": {},
          "execution_count": 188
        }
      ]
    },
    {
      "cell_type": "code",
      "source": [
        "#Let's look at the X_train matrix but transpose it.\n",
        "X_train.T"
      ],
      "metadata": {
        "colab": {
          "base_uri": "https://localhost:8080/"
        },
        "id": "jVEmhI6JpT4T",
        "outputId": "5c7c11f2-8b42-452e-85eb-0e6fa9a61b4a"
      },
      "execution_count": 189,
      "outputs": [
        {
          "output_type": "execute_result",
          "data": {
            "text/plain": [
              "array([[0, 1, 1, 0],\n",
              "       [0, 1, 0, 1],\n",
              "       [1, 1, 1, 1]])"
            ]
          },
          "metadata": {},
          "execution_count": 189
        }
      ]
    },
    {
      "cell_type": "code",
      "source": [
        "adjustments = np.dot(X_train.T, loss_der)\n",
        "adjustments"
      ],
      "metadata": {
        "colab": {
          "base_uri": "https://localhost:8080/"
        },
        "id": "JLvqiKD5hqfr",
        "outputId": "2c7eb049-c854-489f-ba70-d8514564d2fa"
      },
      "execution_count": 190,
      "outputs": [
        {
          "output_type": "execute_result",
          "data": {
            "text/plain": [
              "array([[ 0.25953842],\n",
              "       [-0.00640228],\n",
              "       [ 0.03963485]])"
            ]
          },
          "metadata": {},
          "execution_count": 190
        }
      ]
    },
    {
      "cell_type": "code",
      "source": [
        "# Let's look at our synaptic weights matrix again.\n",
        "synaptic_weights"
      ],
      "metadata": {
        "colab": {
          "base_uri": "https://localhost:8080/"
        },
        "id": "Ex9Ep_ROpkGg",
        "outputId": "a329a60b-26e0-42f1-e847-86018b90ef32"
      },
      "execution_count": 191,
      "outputs": [
        {
          "output_type": "execute_result",
          "data": {
            "text/plain": [
              "array([[ 0.10159581],\n",
              "       [ 0.41629565],\n",
              "       [-0.41819052]])"
            ]
          },
          "metadata": {},
          "execution_count": 191
        }
      ]
    },
    {
      "cell_type": "code",
      "source": [
        "synaptic_weights += adjustments\n",
        "synaptic_weights"
      ],
      "metadata": {
        "colab": {
          "base_uri": "https://localhost:8080/"
        },
        "id": "MeXOPjFwPimT",
        "outputId": "f76718a0-3503-4aa9-e09f-43cf65693913"
      },
      "execution_count": 192,
      "outputs": [
        {
          "output_type": "execute_result",
          "data": {
            "text/plain": [
              "array([[ 0.36113422],\n",
              "       [ 0.40989336],\n",
              "       [-0.37855567]])"
            ]
          },
          "metadata": {},
          "execution_count": 192
        }
      ]
    },
    {
      "cell_type": "markdown",
      "source": [
        "This ends the process.  We loop this process over a set period of epochs(iterations) until our synaptic weight matrix is nicely tuned by giving us accurate predictions."
      ],
      "metadata": {
        "id": "S4zKhBgFoB30"
      }
    },
    {
      "cell_type": "markdown",
      "source": [
        "# Reference Functions"
      ],
      "metadata": {
        "id": "iuPsxNJTiow0"
      }
    },
    {
      "cell_type": "code",
      "source": [
        "def sigmoid(x):\n",
        "  return 1 / (1 + np.exp(-x)) "
      ],
      "metadata": {
        "id": "rMdtTWp5KZBZ"
      },
      "execution_count": 193,
      "outputs": []
    },
    {
      "cell_type": "code",
      "source": [
        "def sigmoid_derivative_func(x):\n",
        "  return x * (1 - x)"
      ],
      "metadata": {
        "id": "nwZf4gLPKfls"
      },
      "execution_count": 194,
      "outputs": []
    },
    {
      "cell_type": "code",
      "source": [
        "def predict(self, X):\n",
        "  X = X.astype(float)\n",
        "  output = sigmoid(np.dot(X, synaptic_weights))\n",
        "  return output"
      ],
      "metadata": {
        "id": "Fg3aa9urKlAz"
      },
      "execution_count": 195,
      "outputs": []
    }
  ]
}